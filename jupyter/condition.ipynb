{
 "cells": [
  {
   "cell_type": "code",
   "execution_count": 41,
   "metadata": {},
   "outputs": [],
   "source": [
    "def selection_mode_changer(plddt:float) -> str:\n",
    "    condition = True\n",
    "    #if ((init_gen['mean_plddt'] > plddt) & (init_gen['ptm'] > ptm)).any():\n",
    "    if (plddt > 1) & (ptm > 1) & condition:\n",
    "        return 'strong'"
   ]
  },
  {
   "cell_type": "code",
   "execution_count": 47,
   "metadata": {},
   "outputs": [],
   "source": [
    "\n"
   ]
  },
  {
   "cell_type": "code",
   "execution_count": 48,
   "metadata": {},
   "outputs": [],
   "source": [
    "class ConditionsX:\n",
    "        def __init__(self) -> None:\n",
    "             pass\n",
    "\n",
    "        def sm_by_condition(args, init_gen):\n",
    "            if args.sm_by_condition:\n",
    "                condition = True\n",
    "                if ((init_gen['mean_plddt'] > 0.9) & (init_gen['ptm'] > 0.8) & condition).any():\n",
    "                    args.selection_mode = 'strong'\n",
    "                    condition = False #do not change args.selection_mode anymore\n",
    "\n",
    "        #Change the selection mode after n generations\n",
    "        def sm_after_n_steps(args, init_gen, gen_i):\n",
    "            if args.sm_after_n_steps > 0:\n",
    "                condition = True\n",
    "                if (gen_i > args.sm_after_n_steps) & condition:\n",
    "                    args.selection_mode = 'strong'\n",
    "                    condition = False #do not change args.selection_mode anymore\n",
    "\n"
   ]
  },
  {
   "cell_type": "code",
   "execution_count": null,
   "metadata": {},
   "outputs": [],
   "source": [
    "if condition:\n",
    "        if args.strong_sm_by_condition:\n",
    "            if (init_gen['mean_plddt'] > 0.6) & (init_gen['ptm'] > 0.5).any() & condition:\n",
    "                args.selection_mode = 'strong'\n",
    "                condition = False #do not change args.selection_mode anymore\n",
    "                with open(os.path.join(args.outpath, args.log), mode='a') as f:\n",
    "                    f.write(\"#changing the selection mode to strong\")\n",
    "\n",
    "        #Change the selection mode after n generations\n",
    "        if args.strong_sm_after_n_steps > 0:\n",
    "            if (gen_i > args.strong_sm_after_n_steps) & condition:\n",
    "                args.selection_mode = 'strong'\n",
    "                condition = False #do not change args.selection_mode anymore\n",
    "                print(\"#changing the selection mode to strong\")\n",
    "                with open(os.path.join(args.outpath, args.log), mode='a') as f:\n",
    "                    f.write(\"#changing the selection mode to strong\")\n",
    "\n",
    "        #STOPPER\n",
    "        if args.use_stopper:\n",
    "            if (init_gen['mean_plddt'] > 0.9) & (init_gen['ptm'] > 0.8):\n",
    "                print(f'gndx={gen_i}; the condition reached, breaking!')\n",
    "                break\n"
   ]
  }
 ],
 "metadata": {
  "kernelspec": {
   "display_name": "base",
   "language": "python",
   "name": "python3"
  },
  "language_info": {
   "codemirror_mode": {
    "name": "ipython",
    "version": 3
   },
   "file_extension": ".py",
   "mimetype": "text/x-python",
   "name": "python",
   "nbconvert_exporter": "python",
   "pygments_lexer": "ipython3",
   "version": "3.11.3"
  }
 },
 "nbformat": 4,
 "nbformat_minor": 2
}
