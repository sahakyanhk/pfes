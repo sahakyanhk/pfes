{
 "cells": [
  {
   "cell_type": "code",
   "execution_count": 70,
   "id": "696ce108",
   "metadata": {
    "scrolled": true
   },
   "outputs": [],
   "source": [
    "import pandas as pd \n",
    "import numpy as np\n",
    "import matplotlib.pyplot as plt\n",
    "import os\n",
    "from scipy.stats import pearsonr\n",
    "import sys\n",
    "from tqdm import tqdm\n",
    "sys.path.append('../../fold_nucleation_time')\n",
    "\n"
   ]
  },
  {
   "cell_type": "code",
   "execution_count": null,
   "id": "640266ce",
   "metadata": {},
   "outputs": [],
   "source": []
  },
  {
   "cell_type": "code",
   "execution_count": 74,
   "id": "dcec5d05",
   "metadata": {},
   "outputs": [
    {
     "name": "stderr",
     "output_type": "stream",
     "text": [
      "100%|██████████| 249/249 [01:14<00:00,  3.35it/s]\n"
     ]
    }
   ],
   "source": [
    "df = pd.DataFrame()\n",
    "lineage_dict = {}\n",
    "bestlog_dict = {}\n",
    "log_dict = {}\n",
    "\n",
    "workdir = \"../../fold_nucleation_time/\"\n",
    "for log in tqdm(os.listdir(workdir)):\n",
    "    path = os.path.join(workdir, log)\n",
    "    if log.startswith('pfe50') and os.path.isdir(path) :\n",
    "        lineage = pd.read_csv(workdir + log + '/visual_pfes_results/lineage.tsv', sep='\\t', comment='#')\n",
    "        bestlog = pd.read_csv(workdir + log + '/visual_pfes_results/bestlog.tsv', sep='\\t', comment='#')\n",
    "        progresslog = pd.read_csv(workdir + log + '/progress.log', sep='\\t', comment='#')\n",
    "\n",
    "        lineage_dict[log] = lineage\n",
    "        bestlog_dict[log] = bestlog\n",
    "        log_dict[log] = progresslog"
   ]
  },
  {
   "cell_type": "code",
   "execution_count": 73,
   "metadata": {},
   "outputs": [
    {
     "ename": "KeyError",
     "evalue": "'pfe50_1'",
     "output_type": "error",
     "traceback": [
      "\u001b[1;31m---------------------------------------------------------------------------\u001b[0m",
      "\u001b[1;31mKeyError\u001b[0m                                  Traceback (most recent call last)",
      "Cell \u001b[1;32mIn[73], line 3\u001b[0m\n\u001b[0;32m      1\u001b[0m lineage_lens \u001b[38;5;241m=\u001b[39m ([\u001b[38;5;28mlen\u001b[39m(lineage_dict[\u001b[38;5;124mf\u001b[39m\u001b[38;5;124m'\u001b[39m\u001b[38;5;124mpfe50_\u001b[39m\u001b[38;5;132;01m{\u001b[39;00mi\u001b[38;5;132;01m}\u001b[39;00m\u001b[38;5;124m'\u001b[39m]) \u001b[38;5;28;01mfor\u001b[39;00m i \u001b[38;5;129;01min\u001b[39;00m \u001b[38;5;28mrange\u001b[39m(\u001b[38;5;241m1\u001b[39m,\u001b[38;5;241m101\u001b[39m)])\n\u001b[0;32m      2\u001b[0m bestlog_lens \u001b[38;5;241m=\u001b[39m ([\u001b[38;5;28mlen\u001b[39m(bestlog_dict[\u001b[38;5;124mf\u001b[39m\u001b[38;5;124m'\u001b[39m\u001b[38;5;124mpfe50_\u001b[39m\u001b[38;5;132;01m{\u001b[39;00mi\u001b[38;5;132;01m}\u001b[39;00m\u001b[38;5;124m'\u001b[39m]) \u001b[38;5;28;01mfor\u001b[39;00m i \u001b[38;5;129;01min\u001b[39;00m \u001b[38;5;28mrange\u001b[39m(\u001b[38;5;241m1\u001b[39m,\u001b[38;5;241m101\u001b[39m)])\n\u001b[1;32m----> 3\u001b[0m log_lens \u001b[38;5;241m=\u001b[39m ([\u001b[38;5;28mlen\u001b[39m(log_dict[\u001b[38;5;124mf\u001b[39m\u001b[38;5;124m'\u001b[39m\u001b[38;5;124mpfe50_\u001b[39m\u001b[38;5;132;01m{\u001b[39;00mi\u001b[38;5;132;01m}\u001b[39;00m\u001b[38;5;124m'\u001b[39m]) \u001b[38;5;28;01mfor\u001b[39;00m i \u001b[38;5;129;01min\u001b[39;00m \u001b[38;5;28mrange\u001b[39m(\u001b[38;5;241m1\u001b[39m,\u001b[38;5;241m101\u001b[39m)])\n",
      "Cell \u001b[1;32mIn[73], line 3\u001b[0m, in \u001b[0;36m<listcomp>\u001b[1;34m(.0)\u001b[0m\n\u001b[0;32m      1\u001b[0m lineage_lens \u001b[38;5;241m=\u001b[39m ([\u001b[38;5;28mlen\u001b[39m(lineage_dict[\u001b[38;5;124mf\u001b[39m\u001b[38;5;124m'\u001b[39m\u001b[38;5;124mpfe50_\u001b[39m\u001b[38;5;132;01m{\u001b[39;00mi\u001b[38;5;132;01m}\u001b[39;00m\u001b[38;5;124m'\u001b[39m]) \u001b[38;5;28;01mfor\u001b[39;00m i \u001b[38;5;129;01min\u001b[39;00m \u001b[38;5;28mrange\u001b[39m(\u001b[38;5;241m1\u001b[39m,\u001b[38;5;241m101\u001b[39m)])\n\u001b[0;32m      2\u001b[0m bestlog_lens \u001b[38;5;241m=\u001b[39m ([\u001b[38;5;28mlen\u001b[39m(bestlog_dict[\u001b[38;5;124mf\u001b[39m\u001b[38;5;124m'\u001b[39m\u001b[38;5;124mpfe50_\u001b[39m\u001b[38;5;132;01m{\u001b[39;00mi\u001b[38;5;132;01m}\u001b[39;00m\u001b[38;5;124m'\u001b[39m]) \u001b[38;5;28;01mfor\u001b[39;00m i \u001b[38;5;129;01min\u001b[39;00m \u001b[38;5;28mrange\u001b[39m(\u001b[38;5;241m1\u001b[39m,\u001b[38;5;241m101\u001b[39m)])\n\u001b[1;32m----> 3\u001b[0m log_lens \u001b[38;5;241m=\u001b[39m ([\u001b[38;5;28mlen\u001b[39m(log_dict[\u001b[38;5;124mf\u001b[39m\u001b[38;5;124m'\u001b[39m\u001b[38;5;124mpfe50_\u001b[39m\u001b[38;5;132;01m{\u001b[39;00mi\u001b[38;5;132;01m}\u001b[39;00m\u001b[38;5;124m'\u001b[39m]) \u001b[38;5;28;01mfor\u001b[39;00m i \u001b[38;5;129;01min\u001b[39;00m \u001b[38;5;28mrange\u001b[39m(\u001b[38;5;241m1\u001b[39m,\u001b[38;5;241m101\u001b[39m)])\n",
      "\u001b[1;31mKeyError\u001b[0m: 'pfe50_1'"
     ]
    }
   ],
   "source": [
    "lineage_lens = ([len(lineage_dict[f'pfe50_{i}']) for i in range(1,101)])\n",
    "bestlog_lens = ([len(bestlog_dict[f'pfe50_{i}']) for i in range(1,101)])\n",
    "log_lens = ([len(log_dict[f'pfe50_{i}']) for i in range(1,101)])\n",
    "\n"
   ]
  },
  {
   "cell_type": "code",
   "execution_count": 62,
   "id": "96460de1",
   "metadata": {},
   "outputs": [
    {
     "data": {
      "text/plain": [
       "(array([ 4.,  2.,  0.,  3.,  0.,  1.,  1.,  1.,  2.,  0.,  2.,  0.,  2.,\n",
       "         0.,  0.,  3.,  0.,  0.,  0.,  2.,  1.,  3.,  0.,  0.,  0.,  0.,\n",
       "         1.,  0.,  0.,  1.,  2.,  0.,  1.,  0.,  0.,  0.,  0.,  1.,  2.,\n",
       "         1.,  1.,  1.,  2.,  1.,  1.,  2.,  3.,  2.,  1., 50.]),\n",
       " array([ 150.,  187.,  224.,  261.,  298.,  335.,  372.,  409.,  446.,\n",
       "         483.,  520.,  557.,  594.,  631.,  668.,  705.,  742.,  779.,\n",
       "         816.,  853.,  890.,  927.,  964., 1001., 1038., 1075., 1112.,\n",
       "        1149., 1186., 1223., 1260., 1297., 1334., 1371., 1408., 1445.,\n",
       "        1482., 1519., 1556., 1593., 1630., 1667., 1704., 1741., 1778.,\n",
       "        1815., 1852., 1889., 1926., 1963., 2000.]),\n",
       " <BarContainer object of 50 artists>)"
      ]
     },
     "execution_count": 62,
     "metadata": {},
     "output_type": "execute_result"
    },
    {
     "data": {
      "image/png": "[encoded data removed]",
      "text/plain": [
       "<Figure size 640x480 with 1 Axes>"
      ]
     },
     "metadata": {},
     "output_type": "display_data"
    }
   ],
   "source": [
    "plt.scatter(df.ptm, df.mean_plddt)\n",
    "pearsonr(df.ptm, df.mean_plddt)\n"
   ]
  },
  {
   "cell_type": "code",
   "execution_count": null,
   "id": "4bed41b3",
   "metadata": {},
   "outputs": [],
   "source": [
    "#log = pd.concat([df, df2.drop(df2['mutation'].index), df3.drop(df3['mutation'].index)])\n",
    "log = pd.concat([df1, df2, df3])"
   ]
  },
  {
   "cell_type": "code",
   "execution_count": null,
   "id": "c5a68495",
   "metadata": {},
   "outputs": [],
   "source": [
    "log = df1"
   ]
  },
  {
   "cell_type": "code",
   "execution_count": null,
   "id": "ce5d5e08",
   "metadata": {},
   "outputs": [],
   "source": []
  },
  {
   "cell_type": "code",
   "execution_count": null,
   "id": "cd11e5cd",
   "metadata": {},
   "outputs": [],
   "source": [
    "alphabet = list('ACDEFGHIKLMNPQRSTVWY')\n",
    "\n",
    "three2one = {'CYS': 'C', 'ASP': 'D', 'SER': 'S', 'GLN': 'Q', 'LYS': 'K',\n",
    "     'ILE': 'I', 'PRO': 'P', 'THR': 'T', 'PHE': 'F', 'ASN': 'N', \n",
    "     'GLY': 'G', 'HIS': 'H', 'LEU': 'L', 'ARG': 'R', 'TRP': 'W', \n",
    "     'ALA': 'A', 'VAL':'V', 'GLU': 'E', 'TYR': 'Y', 'MET': 'M'}\n",
    "\n",
    "one2three ={}\n",
    "\n",
    "uniprot = {'amino_acid': ['Leu', 'Ala', 'Gly', 'Val', 'Ser', 'Glu', 'Arg', 'Thr', 'Ile', 'Asp', 'Pro', 'Lys', 'Phe', 'Gln', 'Asn', 'Tyr', 'Met', 'His', 'Cys', 'Trp'],\n",
    "'percent': [9.84, 9.00, 7.26, 6.86, 6.85, 6.25, 5.85, 5.56, 5.52, 5.48, 5.01, 4.95, 3.88, 3.81, 3.80, 2.88, 2.33, 2.23, 1.30, 1.30]}\n",
    "\n",
    "#https://www.uniprot.org/uniprotkb/statistics#amino-acid-composition\n",
    "swissprot = {'amino_acid': ['Leu', 'Ala', 'Gly', 'Val', 'Glu', 'Ser', 'Ile', 'Lys', 'Arg', 'Asp', 'Thr', 'Pro', 'Asn', 'Gln', 'Phe', 'Tyr', 'Met', 'His', 'Cys', 'Trp'],\n",
    "'percent': [9.65, 8.26, 7.07, 6.86, 6.72, 6.65, 5.91, 5.80, 5.53, 5.46, 5.36, 4.75, 4.06, 3.93, 3.87, 2.92, 2.41, 2.28, 1.39, 1.10]}\t\n",
    "\n",
    "dfUP = pd.DataFrame(uniprot).sort_values('amino_acid')\n",
    "dfSP = pd.DataFrame(swissprot).sort_values('amino_acid')\n",
    "resdata = pd.DataFrame({'amino_acid': dfUP.amino_acid, 'UPpercent': dfUP.percent, 'SPpercent': dfSP.percent})\n",
    "resdata.insert(loc=0, column='AA', value=[three2one[AA] for AA in resdata.amino_acid.str.upper()])\n",
    "resdata_sorted = resdata.sort_values('AA')\n",
    "\n"
   ]
  },
  {
   "cell_type": "code",
   "execution_count": null,
   "id": "c35c71be",
   "metadata": {},
   "outputs": [],
   "source": [
    "seqstrs = log[(log.ptm > 0.6) & (log.mean_plddt > 0.85)].drop_duplicates('sequence').sequence.str\n",
    "len(seqstrs.len())"
   ]
  },
  {
   "cell_type": "code",
   "execution_count": null,
   "id": "50613bf4",
   "metadata": {},
   "outputs": [],
   "source": [
    "AAoccurance = {AA: seqstrs.count(AA).sum() for AA in alphabet} \n",
    "n_allAA = sum(AAoccurance.values())\n",
    "pfes_percent = {AA:round((AAoccurance[AA]/n_allAA) * 100, 3) for AA in AAoccurance}"
   ]
  },
  {
   "cell_type": "code",
   "execution_count": null,
   "id": "5dc3283d",
   "metadata": {},
   "outputs": [],
   "source": [
    "resdata_sorted['pfes_percent'] = pfes_percent.values()\n",
    "resdata_sorted.reset_index(inplace = True, drop=True )\n"
   ]
  },
  {
   "cell_type": "code",
   "execution_count": null,
   "id": "86da1e16",
   "metadata": {},
   "outputs": [],
   "source": [
    "resdata_sorted2 = resdata_sorted.drop(resdata_sorted[(resdata_sorted[\"AA\"] == 'G') | (resdata_sorted[\"AA\"] == 'L')].index)\n",
    "\n",
    "x = resdata_sorted.UPpercent\n",
    "y = resdata_sorted.pfes_percent\n",
    "\n",
    "\n",
    "\n",
    "fig, ax = plt.subplots()\n",
    "ax.scatter(x, y)\n",
    "ax.set_xlim(0,12)\n",
    "ax.set_ylim(0,12)\n",
    "for i, res in enumerate(resdata_sorted.AA):\n",
    "    ax.annotate(res, (x[i], y[i]))\n",
    "\n",
    "m, b = np.polyfit(x, y, 1)\n",
    "X_plot = np.linspace(ax.get_xlim()[0],ax.get_xlim()[1], 100)\n",
    "plt.plot(X_plot, m*X_plot + b, '-')\n",
    "fig.set_size_inches(6, 6)\n",
    "\n",
    "print(pearsonr(list(resdata_sorted.UPpercent), list(resdata_sorted.pfes_percent)))\n",
    "print(pearsonr(list(resdata_sorted2.UPpercent), list(resdata_sorted2.pfes_percent)))"
   ]
  },
  {
   "cell_type": "markdown",
   "id": "87784fde",
   "metadata": {},
   "source": [
    "# Make substitution matrix "
   ]
  },
  {
   "cell_type": "code",
   "execution_count": null,
   "id": "a7b1a27a",
   "metadata": {},
   "outputs": [],
   "source": [
    "mutations_list = list(log[(log.mutation.str.contains('\\.')) & (log.mean_plddt > 0.85)].drop_duplicates('sequence').mutation)\n",
    "subst_list = [(m[0],m[-1]) for m in mutations_list]\n"
   ]
  },
  {
   "cell_type": "code",
   "execution_count": null,
   "id": "5e239eb2",
   "metadata": {
    "scrolled": true
   },
   "outputs": [],
   "source": [
    "matrix=np.empty((20,20))\n",
    "for a, i in zip(alphabet,range(20)):\n",
    "    for b, j in zip(alphabet,range(20)):\n",
    "        matrix[i][j] = subst_list.count((a,b))\n",
    "\n",
    "for i in range(20): matrix[i][i] = 0 \n"
   ]
  },
  {
   "cell_type": "code",
   "execution_count": null,
   "id": "f4b68d28",
   "metadata": {
    "scrolled": false
   },
   "outputs": [],
   "source": [
    "fig, ax = plt.subplots()\n",
    "fig.set_size_inches(8, 8)\n",
    "ax.imshow(matrix)\n",
    "ax.xaxis.tick_top()\n",
    "ticks = alphabet\n",
    "plt.setp(ax, xticks=range(20), xticklabels=ticks, yticks=range(20), yticklabels=ticks, )\n",
    "\n",
    "for (j,i),label in np.ndenumerate(matrix):\n",
    "    ax.text(i,j,round(label),ha='center',va='center')\n"
   ]
  },
  {
   "cell_type": "code",
   "execution_count": null,
   "id": "2b296d14",
   "metadata": {},
   "outputs": [],
   "source": []
  },
  {
   "cell_type": "markdown",
   "id": "18fab428",
   "metadata": {},
   "source": [
    "# Make substitution matrix "
   ]
  },
  {
   "cell_type": "code",
   "execution_count": 23,
   "id": "2e5c9e70",
   "metadata": {},
   "outputs": [
    {
     "name": "stdout",
     "output_type": "stream",
     "text": [
      "../../fold_nucleation_time/pfnt1/progress.log\n",
      "../../fold_nucleation_time/pfnt10/progress.log\n",
      "../../fold_nucleation_time/pfnt11/progress.log\n",
      "../../fold_nucleation_time/pfnt12/progress.log\n",
      "../../fold_nucleation_time/pfnt13/progress.log\n",
      "../../fold_nucleation_time/pfnt14/progress.log\n",
      "../../fold_nucleation_time/pfnt15/progress.log\n",
      "fold evolver after 22800 mutatins\n",
      "../../fold_nucleation_time/pfnt16/progress.log\n",
      "../../fold_nucleation_time/pfnt17/progress.log\n",
      "../../fold_nucleation_time/pfnt18/progress.log\n",
      "../../fold_nucleation_time/pfnt19/progress.log\n",
      "../../fold_nucleation_time/pfnt2/progress.log\n",
      "fold evolver after 9300 mutatins\n",
      "../../fold_nucleation_time/pfnt20/progress.log\n",
      "fold evolver after 1800 mutatins\n",
      "../../fold_nucleation_time/pfnt21/progress.log\n",
      "../../fold_nucleation_time/pfnt22/progress.log\n",
      "../../fold_nucleation_time/pfnt23/progress.log\n",
      "../../fold_nucleation_time/pfnt24/progress.log\n",
      "../../fold_nucleation_time/pfnt25/progress.log\n",
      "../../fold_nucleation_time/pfnt3/progress.log\n",
      "../../fold_nucleation_time/pfnt4/progress.log\n",
      "fold evolver after 2100 mutatins\n",
      "../../fold_nucleation_time/pfnt5/progress.log\n",
      "fold evolver after 8000 mutatins\n",
      "../../fold_nucleation_time/pfnt50aa/progress.log\n",
      "fold evolver after 52703 mutatins\n",
      "../../fold_nucleation_time/pfnt6/progress.log\n",
      "fold evolver after 2900 mutatins\n",
      "../../fold_nucleation_time/pfnt7/progress.log\n",
      "../../fold_nucleation_time/pfnt8/progress.log\n",
      "../../fold_nucleation_time/pfnt9/progress.log\n"
     ]
    }
   ],
   "source": [
    "df = pd.DataFrame()\n",
    "stat_dict1 = {}\n",
    "resultsdir = '../../fold_nucleation_time/'\n",
    "for log in os.listdir(resultsdir):\n",
    "    if log.startswith('pfnt') and os.path.isdir(resultsdir+'/'+log):\n",
    "        print(resultsdir + log + '/progress.log')\n",
    "        df = pd.read_csv(resultsdir + log + '/progress.log', sep='\\t', comment='#')\n",
    "        boolist = (df['mean_plddt'] > 0.7) & (df['ptm'] > 0.7) & (df['seq_len'] > 50)\n",
    "        i=0\n",
    "        for line  in boolist:\n",
    "            if line == True:\n",
    "                stat_dict1[log] = i\n",
    "                print(f'fold evolver after {i} mutatins')\n",
    "                break\n",
    "            i+=1"
   ]
  },
  {
   "cell_type": "code",
   "execution_count": null,
   "id": "2b81125a",
   "metadata": {},
   "outputs": [],
   "source": [
    "df = pd.DataFrame()\n",
    "stat_dict2 = {}\n",
    "resultsdir = '../../SFE_RESULTS2/'\n",
    "for log in os.listdir(resultsdir):\n",
    "    if log.startswith('SF2pfes'):\n",
    "        print(resultsdir + log + '/progress.log')\n",
    "        df = pd.read_csv(resultsdir + log + '/progress.log', sep='\\t', comment='#')\n",
    "        boolist = (df['mean_plddt'] > 0.7) & (df['ptm'] > 0.7) & (df['seq_len'] > 50)\n",
    "        i=0\n",
    "        for line  in boolist:\n",
    "            if line == True:\n",
    "                stat_dict2[log] = i\n",
    "                print(f'fold evolver after {i} mutatins')\n",
    "                break\n",
    "            i+=1"
   ]
  },
  {
   "cell_type": "code",
   "execution_count": null,
   "id": "ecfbb181",
   "metadata": {},
   "outputs": [],
   "source": [
    "df = pd.DataFrame()\n",
    "stat_dict3 = {}\n",
    "resultsdir = '../../SFE_RESULTS3/'\n",
    "for log in os.listdir(resultsdir):\n",
    "    if log.startswith('SF3pfes'):\n",
    "        print(resultsdir + log + '/progress.log')\n",
    "        df = pd.read_csv(resultsdir + log + '/progress.log', sep='\\t', comment='#')\n",
    "        boolist = (df['mean_plddt'] > 0.7) & (df['ptm'] > 0.7) & (df['seq_len'] > 50)\n",
    "        i=0\n",
    "        for line  in boolist:\n",
    "            if line == True:\n",
    "                stat_dict3[log] = i\n",
    "                print(f'fold evolver after {i} mutatins')\n",
    "                break\n",
    "            i+=1"
   ]
  },
  {
   "cell_type": "code",
   "execution_count": null,
   "id": "97a27995",
   "metadata": {},
   "outputs": [],
   "source": [
    "df = pd.DataFrame()\n",
    "stat_dict4 = {}\n",
    "resultsdir = '../../IFE_RESULTS/'\n",
    "for log in os.listdir(resultsdir):\n",
    "    if log.startswith('inter_hth_'):\n",
    "        print(resultsdir + log + '/progress.log')\n",
    "        df = pd.read_csv(resultsdir + log + '/progress.log', sep='\\t', comment='#')\n",
    "        boolist = (df['mean_plddt'] > 0.7) & (df['ptm'] > 0.7) & (df['seq_len'] > 50)\n",
    "        i=0\n",
    "        for line  in boolist:\n",
    "            if line == True:\n",
    "                stat_dict4[log] = i\n",
    "                print(f'fold evolver after {i} mutatins')\n",
    "                break\n",
    "            i+=1"
   ]
  },
  {
   "cell_type": "code",
   "execution_count": 21,
   "id": "194f9357",
   "metadata": {},
   "outputs": [
    {
     "ename": "NameError",
     "evalue": "name 'stat_dict3' is not defined",
     "output_type": "error",
     "traceback": [
      "\u001b[1;31m---------------------------------------------------------------------------\u001b[0m",
      "\u001b[1;31mNameError\u001b[0m                                 Traceback (most recent call last)",
      "Cell \u001b[1;32mIn[21], line 1\u001b[0m\n\u001b[1;32m----> 1\u001b[0m alldicts \u001b[38;5;241m=\u001b[39m stat_dict1  \u001b[38;5;241m|\u001b[39m stat_dict3 \u001b[38;5;241m|\u001b[39m stat_dict2\n",
      "\u001b[1;31mNameError\u001b[0m: name 'stat_dict3' is not defined"
     ]
    }
   ],
   "source": [
    "alldicts = stat_dict1  | stat_dict3 | stat_dict2"
   ]
  },
  {
   "cell_type": "code",
   "execution_count": null,
   "id": "13b37c88",
   "metadata": {},
   "outputs": [],
   "source": []
  },
  {
   "cell_type": "code",
   "execution_count": null,
   "id": "60082ad4",
   "metadata": {},
   "outputs": [],
   "source": [
    "alldicts.pop('SFpfes3_optimization')"
   ]
  },
  {
   "cell_type": "code",
   "execution_count": 24,
   "id": "26ac6570",
   "metadata": {},
   "outputs": [
    {
     "data": {
      "text/plain": [
       "Text(0.5, 0, 'Number of mutations')"
      ]
     },
     "execution_count": 24,
     "metadata": {},
     "output_type": "execute_result"
    },
    {
     "data": {
      "image/png": "[encoded data removed]",
      "text/plain": [
       "<Figure size 640x480 with 1 Axes>"
      ]
     },
     "metadata": {},
     "output_type": "display_data"
    }
   ],
   "source": [
    "import numpy as np\n",
    "import matplotlib.pyplot as plt\n",
    "\n",
    "plt.style.use('default')\n",
    "\n",
    "data = list(stat_dict1.values())\n",
    "x = data\n",
    "\n",
    "# histogram on linear scale\n",
    "plt.subplot(211)\n",
    "hist, bins, _ = plt.hist(x, bins=10,  facecolor = '#2ab0ff', edgecolor='black', linewidth=1,)\n",
    "plt.xlim(12**3,10**5)\n",
    "plt.xlabel('Number of mutations')\n",
    "\n",
    "#plt.grid(True, which=\"both\")\n",
    "\n"
   ]
  },
  {
   "cell_type": "code",
   "execution_count": 25,
   "id": "2e7c180b",
   "metadata": {},
   "outputs": [
    {
     "data": {
      "image/png": "[encoded data removed]",
      "text/plain": [
       "<Figure size 640x480 with 1 Axes>"
      ]
     },
     "metadata": {},
     "output_type": "display_data"
    }
   ],
   "source": [
    "# histogram on log scale. \n",
    "# Use non-equal bin sizes, such that they look equal on log scale.\n",
    "logbins = np.logspace(np.log10(bins[0]),np.log10(bins[-1]),len(bins))\n",
    "#plt.subplot(211)\n",
    "plt.hist(x, bins=logbins,  facecolor = '#2ab0ff', edgecolor='black', linewidth=1,)\n",
    "plt.xlabel('Number of mutations (log)')\n",
    "plt.grid(True, which=\"both\")\n",
    "\n",
    "\n",
    "plt.xscale('log')\n",
    "plt.xlim(10**3,11**5)\n",
    "plt.ylim(0,15)\n",
    "plt.yticks([0,5,10,15])\n",
    "plt.show()\n"
   ]
  },
  {
   "cell_type": "code",
   "execution_count": null,
   "id": "84507935",
   "metadata": {},
   "outputs": [],
   "source": []
  }
 ],
 "metadata": {
  "kernelspec": {
   "display_name": "Python 3 (ipykernel)",
   "language": "python",
   "name": "python3"
  },
  "language_info": {
   "codemirror_mode": {
    "name": "ipython",
    "version": 3
   },
   "file_extension": ".py",
   "mimetype": "text/x-python",
   "name": "python",
   "nbconvert_exporter": "python",
   "pygments_lexer": "ipython3",
   "version": "3.11.3"
  }
 },
 "nbformat": 4,
 "nbformat_minor": 5
}
