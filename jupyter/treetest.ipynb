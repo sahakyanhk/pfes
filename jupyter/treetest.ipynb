{
 "cells": [
  {
   "cell_type": "code",
   "execution_count": null,
   "metadata": {},
   "outputs": [],
   "source": [
    "#ete3\n",
    "from ete4 import Tree\n",
    "import pandas as pd\n",
    "import numpy as np\n"
   ]
  },
  {
   "cell_type": "code",
   "execution_count": null,
   "metadata": {},
   "outputs": [],
   "source": [
    "def extract_tree(head_size, log_path = '../../FUSION/testrun4/progress.log'):\n",
    "\tlog = pd.read_csv(log_path, comment='#', sep='\\t')\n",
    "\tlog = log.head(head_size)\n",
    "\tparent_child_list = log[['prev_id', 'id']].apply(tuple, axis=1).tolist()\n",
    "\ttree = Tree.from_parent_child_table(parent_child_list)\n",
    "\treturn tree\n",
    "\n",
    "#treelog=log.head(head_size)\n",
    "#treelog = treelog.drop_duplicates(['prev_id', 'id'], keep=\"first\")\n"
   ]
  },
  {
   "cell_type": "code",
   "execution_count": null,
   "metadata": {},
   "outputs": [],
   "source": [
    "t = extract_tree(100000, '../../FUSION/testrun4/progress.log')\n",
    "#t.write()"
   ]
  },
  {
   "cell_type": "code",
   "execution_count": null,
   "metadata": {},
   "outputs": [],
   "source": [
    "list(list(t.search_leaves_by_name(\"g981seq87\"))[0].ancestors())"
   ]
  },
  {
   "cell_type": "code",
   "execution_count": null,
   "metadata": {},
   "outputs": [],
   "source": [
    "parent_child_list = log[['prev_id', 'id']].apply(tuple, axis=1).tolist()"
   ]
  },
  {
   "cell_type": "code",
   "execution_count": null,
   "metadata": {},
   "outputs": [],
   "source": [
    "names = [l.name for l in t]\n",
    "dists  = [t.get_distance(l, 'init') for l in t]\n",
    "\n",
    "for leaf in t:\n",
    "\tif t.get_distance(leaf, 'init') < 4.1: \n",
    "\t\tprint(leaf.name, t.get_distance(leaf.name, 'init'))\n",
    "\t\tt.search_nodes(name=leaf.name)[0].delete() \n",
    "\n",
    "treelog.prev_id = treelog.gndx +\"_\"+ treelog.prev_id\n",
    "treelog.id = treelog.gndx +\"_\"+ treelog.id"
   ]
  },
  {
   "cell_type": "code",
   "execution_count": null,
   "metadata": {},
   "outputs": [],
   "source": []
  },
  {
   "cell_type": "code",
   "execution_count": null,
   "metadata": {},
   "outputs": [],
   "source": []
  }
 ],
 "metadata": {
  "kernelspec": {
   "display_name": "base",
   "language": "python",
   "name": "python3"
  },
  "language_info": {
   "codemirror_mode": {
    "name": "ipython",
    "version": 3
   },
   "file_extension": ".py",
   "mimetype": "text/x-python",
   "name": "python",
   "nbconvert_exporter": "python",
   "pygments_lexer": "ipython3",
   "version": "3.11.3"
  }
 },
 "nbformat": 4,
 "nbformat_minor": 2
}
